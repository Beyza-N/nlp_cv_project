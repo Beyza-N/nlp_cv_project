#sadece parametrelerde değişiklik lazım logo için
# news_detection_v37_final (ÇOKLU referans logo, klavye VS LOGO FOLDER, BASİT, KESİN ÇÖZÜM - TEXT CHECK ADDED)
import pandas as pd
from transformers import pipeline
import cv2
import numpy as np
import os
from PIL import Image

# --- Kütüphaneler ---
try:
    from PIL import Image
except ImportError:
    !pip install Pillow
try:
    import cv2
except ImportError:
    !pip install opencv-python
try:
    import cv2.xfeatures2d
except ImportError:
    !pip install opencv-contrib-python --user

# --- Metin Sınıflandırma ---
classifier = pipeline("text-classification", model="dbmdz/bert-base-turkish-cased", return_all_scores=False)

# --- Veri Yükleme ---
csv_file_path = '/content/sample_data/haber_veri_seti/dataset.csv'
df = pd.read_csv(csv_file_path, names=['Haber Adı', 'Haber'])  # Sadece 2 sütun

# --- Logo Klasörü (REFERANS logolar burada) ---
LOGO_DIR = '/content/sample_data/haber_veri_seti/logos/'

def detect_logo(keyboard_image_path, logo_dir):
    """Özellik tabanlı eşleştirme (SIFT) ile logo tespiti."""
    try:
        # Klavye görselini yükle
        keyboard_img = cv2.imread(keyboard_image_path, cv2.IMREAD_GRAYSCALE)
        if keyboard_img is None:
            print("Hata: Klavye görseli yüklenemedi.")
            return 0

        # SIFT dedektörünü oluştur
        sift = cv2.SIFT_create()
        kp_key, des_key = sift.detectAndCompute(keyboard_img, None)
        if des_key is None:
            print("Hata: Klavye görselinde yeterli özellik bulunamadı.")
            return 0

        min_match_count = 10
        matched_logo_count = 0

        # --- Klavye Logosu <-> Logo Klasöründeki TÜM Logolar ---
        for logo_filename in os.listdir(logo_dir):
            if logo_filename.endswith(('.png', '.jpg', '.jpeg')):
                logo_path = os.path.join(logo_dir, logo_filename)
                try:
                    logo_img = cv2.imread(logo_path, cv2.IMREAD_GRAYSCALE)
                    if logo_img is None:
                        print(f"Uyarı: {logo_path} yüklenemedi.")
                        continue

                    kp_logo, des_logo = sift.detectAndCompute(logo_img, None)
                    if des_logo is None:
                        print(f"Uyarı: {logo_path} logosunda yeterli özellik yok.")
                        continue

                    # Klavye logosu ile logo klasöründeki logoyu karşılaştır
                    bf = cv2.BFMatcher()
                    matches = bf.knnMatch(des_key, des_logo, k=2)

                    good_matches = []
                    for m, n in matches:
                        if m.distance < 0.75 * n.distance:
                            good_matches.append(m)

                    if len(good_matches) > min_match_count:
                        print(f"Klavyeden yüklenen logo, logo klasöründeki {logo_filename} ile eşleşti: {len(good_matches)}/{min_match_count}")
                        matched_logo_count += 1
                        # break  # Keep looping to count all matches

                except Exception as e:
                    print(f"Hata: {logo_path} işlenirken hata: {e}")
                    continue

        if matched_logo_count > 0:
            print(f"Klavyeden yüklenen logo, logo klasöründeki {matched_logo_count} logo ile eşleşti.")
            return matched_logo_count  # Return the count of matched logos
        else:
            print(f"Klavyeden yüklenen logo, logo klasöründeki hiçbir logoyla yeterli eşleşme bulunamadı.")
            return 0  # No match

    except Exception as e:
        print(f"Logo tespiti sırasında hata: {e}")
        return 0  # Error case return 0


def classify_and_label(haber_baslik, haber_metni, target_company, keywords): #keyboard_image_path KALDIRILDI
    """Metin tespiti ile haberleri sınıflandırır."""

    # --- Metin Analizi ---
    combined_text = f"{haber_baslik} {haber_metni}".upper()
    text_match = False
    if target_company.upper() in combined_text and any(keyword.upper() in combined_text for keyword in keywords):
        try:
            result = classifier(haber_metni[:512])
            if result[0]['label'] == "LABEL_1":
                text_match = True
        except Exception as e:
            print(f"Metin sınıflandırma hatası: {e}")

    return text_match # Sadece metin sonucu döndür


# --- Ana Yürütme ---
sirket_adi = input("Lütfen şirket adını girin: ").strip().upper()
anahtar_kelime_input = input("Lütfen anahtar kelimeleri virgülle ayırarak girin: ")
anahtar_kelimeler = [kelime.strip().upper() for kelime in anahtar_kelime_input.split(',')]
keyboard_image_path = input("Lütfen klavyedeki (yüklenecek) logonun dosya yolunu girin: ")

# Logo analizi (dataset döngüsünden ÖNCE, SADECE BİR KEZ ÇAĞRILIR)
num_logo_positive = detect_logo(keyboard_image_path, LOGO_DIR)

# Sonuçları sakla
num_text_positive = 0
num_overall_positive = 0

# Haberleri analiz et (dataset döngüsü, SADECE METİN ANALİZİ İÇİN)
for index, row in df.iterrows():
    haber_baslik = str(row['Haber Adı'])
    haber_metni = str(row['Haber'])

    text_match = classify_and_label(haber_baslik, haber_metni, sirket_adi, anahtar_kelimeler) # Sadece metin analizi

    # Metin sonuçlarını güncelle
    if text_match:
        num_text_positive += 1

# Genel sonuçları hesapla (METİN veya LOGO)
num_overall_positive = num_text_positive + num_logo_positive # Metin ve logo sayılarını TOPLA (VEYA)

# --- Sonuçları Yazdır ---
print("\n--- Sonuçlar ---")
print(f"Toplam Haber Sayısı: {len(df)}")
print(f"Metin İçin İlgili Haber Sayısı ({sirket_adi} ve Anahtar Kelimeler): {num_text_positive}")
print(f"Logo İçin İlgili Haber Sayısı: {num_logo_positive}") # Doğru logo sayısı
print(f"Toplam İlgili Haber Sayısı (Metin VEYA Logo): {num_overall_positive}")
